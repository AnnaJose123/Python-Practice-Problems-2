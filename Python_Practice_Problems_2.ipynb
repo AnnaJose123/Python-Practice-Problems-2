{
  "nbformat": 4,
  "nbformat_minor": 0,
  "metadata": {
    "colab": {
      "provenance": []
    },
    "kernelspec": {
      "name": "python3",
      "display_name": "Python 3"
    },
    "language_info": {
      "name": "python"
    }
  },
  "cells": [
    {
      "cell_type": "code",
      "execution_count": 1,
      "metadata": {
        "id": "DDeoJCJ-8-4s"
      },
      "outputs": [],
      "source": [
        "#1"
      ]
    },
    {
      "cell_type": "code",
      "source": [
        "def C(s):\n",
        "    result = \"\"\n",
        "    seen_chars = set()\n",
        "    for char in s:\n",
        "        if char not in seen_chars:\n",
        "            count = s.count(char)\n",
        "            result += f\"{char}={count}, \"\n",
        "            seen_chars.add(char)\n",
        "    result = result.rstrip(\", \")\n",
        "    return result\n",
        "instr= input(\"Enter a string : \")\n",
        "freq=C(instr)\n",
        "print (f\"Occurrence of all characters in {instr} \\n \"+ str(freq))"
      ],
      "metadata": {
        "colab": {
          "base_uri": "https://localhost:8080/"
        },
        "id": "rNcWWA4B-Aw8",
        "outputId": "adc0e347-559d-49ed-abed-7ff2b3ea0916"
      },
      "execution_count": 2,
      "outputs": [
        {
          "output_type": "stream",
          "name": "stdout",
          "text": [
            "Enter a string : hakuna matata\n",
            "Occurrence of all characters in hakuna matata \n",
            " h=1, a=5, k=1, u=1, n=1,  =1, m=1, t=2\n"
          ]
        }
      ]
    },
    {
      "cell_type": "code",
      "source": [
        "#2"
      ],
      "metadata": {
        "id": "rrRgNgF9ABOd"
      },
      "execution_count": 3,
      "outputs": []
    },
    {
      "cell_type": "code",
      "source": [
        "def M(x, y, z):\n",
        "    result = max(x, y, z)\n",
        "    return result\n",
        "a=int(input('First : '))\n",
        "b=int(input('Second : '))\n",
        "c=int(input('Third : '))\n",
        "m = M(a, b, c)\n",
        "print(\"Maximum :\", m)"
      ],
      "metadata": {
        "colab": {
          "base_uri": "https://localhost:8080/"
        },
        "id": "quE9vWFYBpvE",
        "outputId": "40fca006-97bb-47eb-f314-74766db3a457"
      },
      "execution_count": 8,
      "outputs": [
        {
          "output_type": "stream",
          "name": "stdout",
          "text": [
            "First : 11\n",
            "Second : 15\n",
            "Third : 13\n",
            "Maximum : 15\n"
          ]
        }
      ]
    },
    {
      "cell_type": "code",
      "source": [
        "#3"
      ],
      "metadata": {
        "id": "CcjUy7XTChF1"
      },
      "execution_count": null,
      "outputs": []
    },
    {
      "cell_type": "code",
      "source": [
        "def exponent(base, exp):\n",
        "    result = base ** exp\n",
        "    return result\n",
        "if __name__ == \"__main__\":\n",
        "    base = int(input(\"Enter the base: \"))\n",
        "    exp = int(input(\"Enter the exponent: \"))\n",
        "    result = exponent(base, exp)\n",
        "    print(f\"{base} raised to the power of {exp} is: {result}\")"
      ],
      "metadata": {
        "colab": {
          "base_uri": "https://localhost:8080/"
        },
        "id": "ibnkIjCJChe4",
        "outputId": "d37e3642-920f-4a9c-8bbc-9bf1b7c8127f"
      },
      "execution_count": 9,
      "outputs": [
        {
          "output_type": "stream",
          "name": "stdout",
          "text": [
            "Enter the base: 2\n",
            "Enter the exponent: 3\n",
            "2 raised to the power of 3 is: 8\n"
          ]
        }
      ]
    },
    {
      "cell_type": "code",
      "source": [
        "#4"
      ],
      "metadata": {
        "id": "xxxPw1mCDYu_"
      },
      "execution_count": null,
      "outputs": []
    },
    {
      "cell_type": "code",
      "source": [
        "def SoC(n):\n",
        "    sum_cubes = 0\n",
        "    for i in range(1, n):\n",
        "        cube = i ** 3\n",
        "        sum_cubes += cube\n",
        "    return sum_cubes\n",
        "if __name__ == \"__main__\":\n",
        "    n = int(input(\"Enter a positive integer: \"))\n",
        "    result = SoC(n)\n",
        "    print(f\"The sum of cubes of all positive integers smaller than {n} is: {result}\")\n"
      ],
      "metadata": {
        "colab": {
          "base_uri": "https://localhost:8080/"
        },
        "id": "bnx5KVj6DZGP",
        "outputId": "5fe7b27f-50da-46d9-cd90-841f14a414d8"
      },
      "execution_count": 11,
      "outputs": [
        {
          "output_type": "stream",
          "name": "stdout",
          "text": [
            "Enter a positive integer: 4\n",
            "The sum of cubes of all positive integers smaller than 4 is: 36\n"
          ]
        }
      ]
    },
    {
      "cell_type": "code",
      "source": [
        "#5"
      ],
      "metadata": {
        "id": "haa5_wu8Ecz8"
      },
      "execution_count": null,
      "outputs": []
    },
    {
      "cell_type": "code",
      "source": [
        "for i in range(0,11):\n",
        "    if(i%2==0 and i%5==0):\n",
        "      print(\"FizzBuzz\")\n",
        "    elif(i%2==0):\n",
        "      print('Fizz')\n",
        "    elif(i%5==0):\n",
        "      print(\"Buzz\")\n",
        "    else:\n",
        "       print(i)"
      ],
      "metadata": {
        "colab": {
          "base_uri": "https://localhost:8080/"
        },
        "id": "0jj8NL9IEdNX",
        "outputId": "a5e52b35-cfb4-45dc-fac5-6683f7530dd9"
      },
      "execution_count": 13,
      "outputs": [
        {
          "output_type": "stream",
          "name": "stdout",
          "text": [
            "FizzBuzz\n",
            "1\n",
            "Fizz\n",
            "3\n",
            "Fizz\n",
            "Buzz\n",
            "Fizz\n",
            "7\n",
            "Fizz\n",
            "9\n",
            "FizzBuzz\n"
          ]
        }
      ]
    },
    {
      "cell_type": "code",
      "source": [
        "#6"
      ],
      "metadata": {
        "id": "bFT-mgx8Fipy"
      },
      "execution_count": null,
      "outputs": []
    },
    {
      "cell_type": "code",
      "source": [
        "def item(list1):\n",
        "    list1.sort()\n",
        "    max = 0\n",
        "    most= None\n",
        "    count = 1\n",
        "    item = list1[0]\n",
        "    for i in range(1, len(list1)):\n",
        "        if list1[i] == item:\n",
        "            count += 1\n",
        "        else:\n",
        "            if count > max:\n",
        "                max= count\n",
        "                most = item\n",
        "\n",
        "            item = list1[i]\n",
        "            count = 1\n",
        "    if count > max:\n",
        "        most= item\n",
        "    return most\n",
        "s=int(input('Size of list : '))\n",
        "d=[]\n",
        "su=0\n",
        "for i in range(s):\n",
        "  num=int(input('Number= '))\n",
        "  d.append(num)\n",
        "print(d)\n",
        "result = item(d)\n",
        "print(\"Most frequent item in the list is:\", result)\n",
        "\n"
      ],
      "metadata": {
        "colab": {
          "base_uri": "https://localhost:8080/"
        },
        "id": "UwMpvSwdFjII",
        "outputId": "56fdf4c0-8f90-4024-dfa4-7c6fe4d124f0"
      },
      "execution_count": 17,
      "outputs": [
        {
          "output_type": "stream",
          "name": "stdout",
          "text": [
            "Size of list : 7\n",
            "Number= 4\n",
            "Number= 3\n",
            "Number= 4\n",
            "Number= 6\n",
            "Number= 4\n",
            "Number= 2\n",
            "Number= 1\n",
            "[4, 3, 4, 6, 4, 2, 1]\n",
            "Most frequent item in the list is: 4\n"
          ]
        }
      ]
    },
    {
      "cell_type": "code",
      "source": [
        "#7"
      ],
      "metadata": {
        "id": "A7Gx4uCiQxgC"
      },
      "execution_count": null,
      "outputs": []
    },
    {
      "cell_type": "code",
      "source": [
        "def sum_of_squares(numbers):\n",
        "    sum_squares = 0\n",
        "    for num in numbers:\n",
        "        sum_squares += num ** 2\n",
        "    return sum_squares\n",
        "s=int(input('What is the size of list '))\n",
        "d=[]\n",
        "su=0\n",
        "for i in range(s):\n",
        "  num=int(input('Number= '))\n",
        "  d.append(num)\n",
        "print(d)\n",
        "result = sum_of_squares(d)\n",
        "print(\"Sum of squares:\", result)"
      ],
      "metadata": {
        "colab": {
          "base_uri": "https://localhost:8080/"
        },
        "id": "oSYRQMzSQx4f",
        "outputId": "26b1130a-5bb2-4340-d6b1-0b09c50a9f35"
      },
      "execution_count": 19,
      "outputs": [
        {
          "output_type": "stream",
          "name": "stdout",
          "text": [
            "What is the size of list 5\n",
            "Number= 2\n",
            "Number= 4\n",
            "Number= 6\n",
            "Number= 8\n",
            "Number= 10\n",
            "[2, 4, 6, 8, 10]\n",
            "Sum of squares: 220\n"
          ]
        }
      ]
    },
    {
      "cell_type": "code",
      "source": [
        "#8"
      ],
      "metadata": {
        "id": "xvVjmT8AR2X6"
      },
      "execution_count": null,
      "outputs": []
    },
    {
      "cell_type": "code",
      "source": [
        "for i in range(1, 16):\n",
        "    if i % 2 == 0:\n",
        "        print(i, \"- even\")\n",
        "    else:\n",
        "        print(i, \"- odd\")"
      ],
      "metadata": {
        "colab": {
          "base_uri": "https://localhost:8080/"
        },
        "id": "k1c5dwBHR2uJ",
        "outputId": "9fad9e8e-2ced-4ec5-85d1-4fff8c7cf22b"
      },
      "execution_count": 20,
      "outputs": [
        {
          "output_type": "stream",
          "name": "stdout",
          "text": [
            "1 - odd\n",
            "2 - even\n",
            "3 - odd\n",
            "4 - even\n",
            "5 - odd\n",
            "6 - even\n",
            "7 - odd\n",
            "8 - even\n",
            "9 - odd\n",
            "10 - even\n",
            "11 - odd\n",
            "12 - even\n",
            "13 - odd\n",
            "14 - even\n",
            "15 - odd\n"
          ]
        }
      ]
    },
    {
      "cell_type": "code",
      "source": [
        "#9"
      ],
      "metadata": {
        "id": "ftzA6t5eSDTU"
      },
      "execution_count": null,
      "outputs": []
    },
    {
      "cell_type": "code",
      "source": [
        "def fahrenheit(celsius):\n",
        "    fahrenheit = (celsius * 9/5) + 32\n",
        "    return fahrenheit\n",
        "def celsius(fahrenheit):\n",
        "    celsius = (fahrenheit - 32) * 5/9\n",
        "    return celsius\n",
        "choice = input(\"Enter 'F' for Fahrenheit, or 'C' for Celsius: \")\n",
        "if choice == 'F':\n",
        "    celsius = float(input(\"Enter temperature in Celsius: \"))\n",
        "    fahrenheit = fahrenheit(celsius)\n",
        "    print(f\"{celsius} Celsius is equal to {fahrenheit} Fahrenheit\")\n",
        "elif choice == 'C':\n",
        "    fahrenheit = float(input(\"Enter temperature in Fahrenheit: \"))\n",
        "    celsius = celsius(fahrenheit)\n",
        "    print(f\"{fahrenheit} Fahrenheit is equal to {celsius} Celsius\")\n",
        "else:\n",
        "    print(\"Invalid choice\")\n"
      ],
      "metadata": {
        "colab": {
          "base_uri": "https://localhost:8080/"
        },
        "id": "OH1uVggHSDmP",
        "outputId": "6c9cf742-8997-4cca-8888-51c820cd71a2"
      },
      "execution_count": 21,
      "outputs": [
        {
          "output_type": "stream",
          "name": "stdout",
          "text": [
            "Enter 'F' for Fahrenheit, or 'C' for Celsius: F\n",
            "Enter temperature in Celsius: 55\n",
            "55.0 Celsius is equal to 131.0 Fahrenheit\n"
          ]
        }
      ]
    },
    {
      "cell_type": "code",
      "source": [
        "#10"
      ],
      "metadata": {
        "id": "M1cBKgzsSd6p"
      },
      "execution_count": null,
      "outputs": []
    },
    {
      "cell_type": "code",
      "source": [
        "def fact(num):\n",
        "  if num < 0:\n",
        "    return None\n",
        "  elif num==1:\n",
        "    return num\n",
        "  else:\n",
        "    return num*fact(num-1)\n",
        "inp=int(input(\"Enter a number\"))\n",
        "print(f\"Factorial of {inp} is {fact(inp)}\")"
      ],
      "metadata": {
        "colab": {
          "base_uri": "https://localhost:8080/"
        },
        "id": "rxq3XAXvSgRl",
        "outputId": "2c59e537-52ed-453b-f47c-b034e87eb3e7"
      },
      "execution_count": 23,
      "outputs": [
        {
          "output_type": "stream",
          "name": "stdout",
          "text": [
            "Enter a number5\n",
            "Factorial of 5 is 120\n"
          ]
        }
      ]
    }
  ]
}